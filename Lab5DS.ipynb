{
 "cells": [
  {
   "cell_type": "markdown",
   "id": "23d7c758",
   "metadata": {},
   "source": [
    "# Laboratorio 5"
   ]
  },
  {
   "cell_type": "markdown",
   "id": "3532dcda",
   "metadata": {},
   "source": [
    "# Análisis de Sentimientos"
   ]
  },
  {
   "cell_type": "markdown",
   "id": "f847f218",
   "metadata": {},
   "source": [
    "### Cristina Bautista 161260\n",
    "### Andy Castillo 18040\n",
    "### Marco Fuentes 18188\n",
    "### Abril Palencia 18198"
   ]
  },
  {
   "cell_type": "code",
   "execution_count": 1,
   "id": "3bebe3a9",
   "metadata": {},
   "outputs": [],
   "source": [
    "import numpy as np\n",
    "import pandas as pd"
   ]
  },
  {
   "cell_type": "code",
   "execution_count": 2,
   "id": "735e0ba5",
   "metadata": {},
   "outputs": [],
   "source": [
    "import nltk\n",
    "from nltk.corpus import stopwords\n",
    "from nltk.classify import SklearnClassifier\n",
    "from nltk import sent_tokenize, word_tokenize, pos_tag\n",
    "from nltk.tokenize import RegexpTokenizer\n",
    "from nltk.stem import WordNetLemmatizer, PorterStemmer\n",
    "from nltk import FreqDist"
   ]
  },
  {
   "cell_type": "code",
   "execution_count": 3,
   "id": "58f97175",
   "metadata": {},
   "outputs": [],
   "source": [
    "from wordcloud import WordCloud, STOPWORDS\n",
    "\n",
    "import matplotlib.pyplot as plt\n",
    "from matplotlib.ticker import StrMethodFormatter\n",
    "%matplotlib inline"
   ]
  },
  {
   "cell_type": "code",
   "execution_count": 4,
   "id": "50b2ef05",
   "metadata": {},
   "outputs": [],
   "source": [
    "from sklearn.linear_model import LogisticRegression\n",
    "from sklearn.metrics import accuracy_score\n",
    "from sklearn.model_selection import train_test_split"
   ]
  },
  {
   "cell_type": "code",
   "execution_count": 5,
   "id": "7b0c1899",
   "metadata": {},
   "outputs": [],
   "source": [
    "data = pd.read_csv('GrammarandProductReviews.csv')"
   ]
  },
  {
   "cell_type": "code",
   "execution_count": 7,
   "id": "84215a56",
   "metadata": {},
   "outputs": [
    {
     "name": "stdout",
     "output_type": "stream",
     "text": [
      "<class 'pandas.core.frame.DataFrame'>\n",
      "RangeIndex: 71044 entries, 0 to 71043\n",
      "Data columns (total 25 columns):\n",
      " #   Column                Non-Null Count  Dtype  \n",
      "---  ------                --------------  -----  \n",
      " 0   id                    71044 non-null  object \n",
      " 1   brand                 71044 non-null  object \n",
      " 2   categories            71044 non-null  object \n",
      " 3   dateAdded             71044 non-null  object \n",
      " 4   dateUpdated           71044 non-null  object \n",
      " 5   ean                   39065 non-null  object \n",
      " 6   keys                  71044 non-null  object \n",
      " 7   manufacturer          70903 non-null  object \n",
      " 8   manufacturerNumber    70841 non-null  object \n",
      " 9   name                  71044 non-null  object \n",
      " 10  reviews.date          70977 non-null  object \n",
      " 11  reviews.dateAdded     71044 non-null  object \n",
      " 12  reviews.dateSeen      71044 non-null  object \n",
      " 13  reviews.didPurchase   32158 non-null  object \n",
      " 14  reviews.doRecommend   60429 non-null  object \n",
      " 15  reviews.id            32158 non-null  float64\n",
      " 16  reviews.numHelpful    32508 non-null  float64\n",
      " 17  reviews.rating        71044 non-null  int64  \n",
      " 18  reviews.sourceURLs    71044 non-null  object \n",
      " 19  reviews.text          71008 non-null  object \n",
      " 20  reviews.title         70568 non-null  object \n",
      " 21  reviews.userCity      5410 non-null   object \n",
      " 22  reviews.userProvince  449 non-null    object \n",
      " 23  reviews.username      70948 non-null  object \n",
      " 24  upc                   71042 non-null  object \n",
      "dtypes: float64(2), int64(1), object(22)\n",
      "memory usage: 13.6+ MB\n"
     ]
    }
   ],
   "source": [
    "data.info()"
   ]
  },
  {
   "cell_type": "code",
   "execution_count": 8,
   "id": "1bd0dde9",
   "metadata": {},
   "outputs": [],
   "source": [
    "data = data[['brand','categories','manufacturer', 'name', 'reviews.didPurchase', 'reviews.doRecommend', 'reviews.numHelpful', 'reviews.rating', 'reviews.text', 'reviews.title', 'reviews.username']]"
   ]
  },
  {
   "cell_type": "code",
   "execution_count": 11,
   "id": "0e627f39",
   "metadata": {},
   "outputs": [
    {
     "data": {
      "text/html": [
       "<div>\n",
       "<style scoped>\n",
       "    .dataframe tbody tr th:only-of-type {\n",
       "        vertical-align: middle;\n",
       "    }\n",
       "\n",
       "    .dataframe tbody tr th {\n",
       "        vertical-align: top;\n",
       "    }\n",
       "\n",
       "    .dataframe thead th {\n",
       "        text-align: right;\n",
       "    }\n",
       "</style>\n",
       "<table border=\"1\" class=\"dataframe\">\n",
       "  <thead>\n",
       "    <tr style=\"text-align: right;\">\n",
       "      <th></th>\n",
       "      <th>brand</th>\n",
       "      <th>categories</th>\n",
       "      <th>manufacturer</th>\n",
       "      <th>name</th>\n",
       "      <th>reviews.didPurchase</th>\n",
       "      <th>reviews.doRecommend</th>\n",
       "      <th>reviews.numHelpful</th>\n",
       "      <th>reviews.rating</th>\n",
       "      <th>reviews.text</th>\n",
       "      <th>reviews.title</th>\n",
       "      <th>reviews.username</th>\n",
       "    </tr>\n",
       "  </thead>\n",
       "  <tbody>\n",
       "    <tr>\n",
       "      <th>0</th>\n",
       "      <td>Universal Music</td>\n",
       "      <td>Movies, Music &amp; Books,Music,R&amp;b,Movies &amp; TV,Mo...</td>\n",
       "      <td>Universal Music Group / Cash Money</td>\n",
       "      <td>Pink Friday: Roman Reloaded Re-Up (w/dvd)</td>\n",
       "      <td>NaN</td>\n",
       "      <td>NaN</td>\n",
       "      <td>0.0</td>\n",
       "      <td>5</td>\n",
       "      <td>i love this album. it's very good. more to the...</td>\n",
       "      <td>Just Awesome</td>\n",
       "      <td>Joshua</td>\n",
       "    </tr>\n",
       "    <tr>\n",
       "      <th>1</th>\n",
       "      <td>Lundberg</td>\n",
       "      <td>Food,Packaged Foods,Snacks,Crackers,Snacks, Co...</td>\n",
       "      <td>Lundberg</td>\n",
       "      <td>Lundberg Organic Cinnamon Toast Rice Cakes</td>\n",
       "      <td>True</td>\n",
       "      <td>NaN</td>\n",
       "      <td>NaN</td>\n",
       "      <td>5</td>\n",
       "      <td>Good flavor. This review was collected as part...</td>\n",
       "      <td>Good</td>\n",
       "      <td>Dorothy W</td>\n",
       "    </tr>\n",
       "    <tr>\n",
       "      <th>2</th>\n",
       "      <td>Lundberg</td>\n",
       "      <td>Food,Packaged Foods,Snacks,Crackers,Snacks, Co...</td>\n",
       "      <td>Lundberg</td>\n",
       "      <td>Lundberg Organic Cinnamon Toast Rice Cakes</td>\n",
       "      <td>True</td>\n",
       "      <td>NaN</td>\n",
       "      <td>NaN</td>\n",
       "      <td>5</td>\n",
       "      <td>Good flavor.</td>\n",
       "      <td>Good</td>\n",
       "      <td>Dorothy W</td>\n",
       "    </tr>\n",
       "    <tr>\n",
       "      <th>3</th>\n",
       "      <td>K-Y</td>\n",
       "      <td>Personal Care,Medicine Cabinet,Lubricant/Sperm...</td>\n",
       "      <td>K-Y</td>\n",
       "      <td>K-Y Love Sensuality Pleasure Gel</td>\n",
       "      <td>False</td>\n",
       "      <td>False</td>\n",
       "      <td>NaN</td>\n",
       "      <td>1</td>\n",
       "      <td>I read through the reviews on here before look...</td>\n",
       "      <td>Disappointed</td>\n",
       "      <td>Rebecca</td>\n",
       "    </tr>\n",
       "    <tr>\n",
       "      <th>4</th>\n",
       "      <td>K-Y</td>\n",
       "      <td>Personal Care,Medicine Cabinet,Lubricant/Sperm...</td>\n",
       "      <td>K-Y</td>\n",
       "      <td>K-Y Love Sensuality Pleasure Gel</td>\n",
       "      <td>False</td>\n",
       "      <td>False</td>\n",
       "      <td>NaN</td>\n",
       "      <td>1</td>\n",
       "      <td>My husband bought this gel for us. The gel cau...</td>\n",
       "      <td>Irritation</td>\n",
       "      <td>Walker557</td>\n",
       "    </tr>\n",
       "  </tbody>\n",
       "</table>\n",
       "</div>"
      ],
      "text/plain": [
       "             brand                                         categories  \\\n",
       "0  Universal Music  Movies, Music & Books,Music,R&b,Movies & TV,Mo...   \n",
       "1         Lundberg  Food,Packaged Foods,Snacks,Crackers,Snacks, Co...   \n",
       "2         Lundberg  Food,Packaged Foods,Snacks,Crackers,Snacks, Co...   \n",
       "3              K-Y  Personal Care,Medicine Cabinet,Lubricant/Sperm...   \n",
       "4              K-Y  Personal Care,Medicine Cabinet,Lubricant/Sperm...   \n",
       "\n",
       "                         manufacturer  \\\n",
       "0  Universal Music Group / Cash Money   \n",
       "1                            Lundberg   \n",
       "2                            Lundberg   \n",
       "3                                 K-Y   \n",
       "4                                 K-Y   \n",
       "\n",
       "                                         name reviews.didPurchase  \\\n",
       "0   Pink Friday: Roman Reloaded Re-Up (w/dvd)                 NaN   \n",
       "1  Lundberg Organic Cinnamon Toast Rice Cakes                True   \n",
       "2  Lundberg Organic Cinnamon Toast Rice Cakes                True   \n",
       "3            K-Y Love Sensuality Pleasure Gel               False   \n",
       "4            K-Y Love Sensuality Pleasure Gel               False   \n",
       "\n",
       "  reviews.doRecommend  reviews.numHelpful  reviews.rating  \\\n",
       "0                 NaN                 0.0               5   \n",
       "1                 NaN                 NaN               5   \n",
       "2                 NaN                 NaN               5   \n",
       "3               False                 NaN               1   \n",
       "4               False                 NaN               1   \n",
       "\n",
       "                                        reviews.text reviews.title  \\\n",
       "0  i love this album. it's very good. more to the...  Just Awesome   \n",
       "1  Good flavor. This review was collected as part...          Good   \n",
       "2                                       Good flavor.          Good   \n",
       "3  I read through the reviews on here before look...  Disappointed   \n",
       "4  My husband bought this gel for us. The gel cau...    Irritation   \n",
       "\n",
       "  reviews.username  \n",
       "0           Joshua  \n",
       "1        Dorothy W  \n",
       "2        Dorothy W  \n",
       "3          Rebecca  \n",
       "4        Walker557  "
      ]
     },
     "execution_count": 11,
     "metadata": {},
     "output_type": "execute_result"
    }
   ],
   "source": [
    "data.head()"
   ]
  },
  {
   "cell_type": "code",
   "execution_count": 12,
   "id": "3e96920f",
   "metadata": {},
   "outputs": [
    {
     "name": "stdout",
     "output_type": "stream",
     "text": [
      "<class 'pandas.core.frame.DataFrame'>\n",
      "RangeIndex: 71044 entries, 0 to 71043\n",
      "Data columns (total 11 columns):\n",
      " #   Column               Non-Null Count  Dtype  \n",
      "---  ------               --------------  -----  \n",
      " 0   brand                71044 non-null  object \n",
      " 1   categories           71044 non-null  object \n",
      " 2   manufacturer         70903 non-null  object \n",
      " 3   name                 71044 non-null  object \n",
      " 4   reviews.didPurchase  32158 non-null  object \n",
      " 5   reviews.doRecommend  60429 non-null  object \n",
      " 6   reviews.numHelpful   32508 non-null  float64\n",
      " 7   reviews.rating       71044 non-null  int64  \n",
      " 8   reviews.text         71008 non-null  object \n",
      " 9   reviews.title        70568 non-null  object \n",
      " 10  reviews.username     70948 non-null  object \n",
      "dtypes: float64(1), int64(1), object(9)\n",
      "memory usage: 6.0+ MB\n"
     ]
    }
   ],
   "source": [
    "data.info()"
   ]
  },
  {
   "cell_type": "code",
   "execution_count": null,
   "id": "980b3fe3",
   "metadata": {},
   "outputs": [],
   "source": []
  }
 ],
 "metadata": {
  "kernelspec": {
   "display_name": "Python 3",
   "language": "python",
   "name": "python3"
  },
  "language_info": {
   "codemirror_mode": {
    "name": "ipython",
    "version": 3
   },
   "file_extension": ".py",
   "mimetype": "text/x-python",
   "name": "python",
   "nbconvert_exporter": "python",
   "pygments_lexer": "ipython3",
   "version": "3.8.8"
  }
 },
 "nbformat": 4,
 "nbformat_minor": 5
}
