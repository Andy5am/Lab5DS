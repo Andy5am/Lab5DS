{
 "cells": [
  {
   "cell_type": "markdown",
   "metadata": {},
   "source": [
    "# Laboratorio 5"
   ]
  },
  {
   "cell_type": "markdown",
   "metadata": {},
   "source": [
    "# Análisis de Sentimientos"
   ]
  },
  {
   "cell_type": "markdown",
   "metadata": {},
   "source": [
    "### Cristina Bautista 161260\n",
    "### Andy Castillo 18040\n",
    "### Marco Fuentes 18188\n",
    "### Abril Palencia 18198"
   ]
  },
  {
   "cell_type": "code",
   "execution_count": 1,
   "metadata": {},
   "outputs": [],
   "source": [
    "import numpy as np\n",
    "import pandas as pd"
   ]
  },
  {
   "cell_type": "code",
   "execution_count": 2,
   "metadata": {},
   "outputs": [
    {
     "name": "stderr",
     "output_type": "stream",
     "text": [
      "[nltk_data] Downloading package stopwords to\n",
      "[nltk_data]     /Users/cristinabautista/nltk_data...\n",
      "[nltk_data]   Package stopwords is already up-to-date!\n",
      "[nltk_data] Downloading package punkt to\n",
      "[nltk_data]     /Users/cristinabautista/nltk_data...\n",
      "[nltk_data]   Package punkt is already up-to-date!\n"
     ]
    },
    {
     "data": {
      "text/plain": [
       "True"
      ]
     },
     "execution_count": 2,
     "metadata": {},
     "output_type": "execute_result"
    }
   ],
   "source": [
    "import nltk\n",
    "from nltk.corpus import stopwords\n",
    "from nltk.classify import SklearnClassifier\n",
    "from nltk import sent_tokenize, word_tokenize, pos_tag\n",
    "from nltk.tokenize import RegexpTokenizer\n",
    "from nltk.stem import WordNetLemmatizer, PorterStemmer\n",
    "from nltk import FreqDist\n",
    "nltk.download('stopwords')\n",
    "nltk.download('punkt')"
   ]
  },
  {
   "cell_type": "code",
   "execution_count": 3,
   "metadata": {},
   "outputs": [],
   "source": [
    "from wordcloud import WordCloud, STOPWORDS\n",
    "\n",
    "import matplotlib.pyplot as plt\n",
    "from matplotlib.ticker import StrMethodFormatter\n",
    "%matplotlib inline"
   ]
  },
  {
   "cell_type": "code",
   "execution_count": 4,
   "metadata": {},
   "outputs": [],
   "source": [
    "from sklearn.linear_model import LogisticRegression\n",
    "from sklearn.metrics import accuracy_score\n",
    "from sklearn.model_selection import train_test_split"
   ]
  },
  {
   "cell_type": "code",
   "execution_count": null,
   "metadata": {},
   "outputs": [],
   "source": [
    "data = pd.read_csv('GrammarandProductReviews.csv')"
   ]
  },
  {
   "cell_type": "code",
   "execution_count": null,
   "metadata": {},
   "outputs": [],
   "source": [
    "data.info()"
   ]
  },
  {
   "cell_type": "code",
   "execution_count": null,
   "metadata": {},
   "outputs": [],
   "source": [
    "data = data[['brand','categories','manufacturer', 'name', 'reviews.didPurchase', 'reviews.doRecommend', 'reviews.numHelpful', 'reviews.rating', 'reviews.text', 'reviews.title', 'reviews.username']]"
   ]
  },
  {
   "cell_type": "code",
   "execution_count": null,
   "metadata": {},
   "outputs": [],
   "source": [
    "data.head()"
   ]
  },
  {
   "cell_type": "code",
   "execution_count": null,
   "metadata": {},
   "outputs": [],
   "source": [
    "data.info()"
   ]
  },
  {
   "cell_type": "code",
   "execution_count": null,
   "metadata": {},
   "outputs": [],
   "source": [
    "data['brand'] = data['brand'].str.lower()\n",
    "data['categories'] = data['categories'].str.lower()\n",
    "data['manufacturer'] = data['manufacturer'].str.lower()\n",
    "data['name'] = data['name'].str.lower()\n",
    "data['reviews.text'] = data['reviews.text'].str.lower()\n",
    "data['reviews.title'] = data['reviews.title'].str.lower()\n",
    "data['reviews.username'] = data['reviews.username'].str.lower()"
   ]
  },
  {
   "cell_type": "code",
   "execution_count": null,
   "metadata": {},
   "outputs": [],
   "source": [
    "# Eliminar url\n",
    "data['brand'] = data['brand'].str.replace(r'http\\S+', ' ')\n",
    "data['categories'] = data['categories'].str.replace(r'http\\S+', ' ')\n",
    "data['manufacturer'] = data['manufacturer'].str.replace(r'http\\S+', ' ')\n",
    "data['name'] = data['name'].str.replace(r'http\\S+', ' ')\n",
    "data['reviews.text'] = data['reviews.text'].str.replace(r'http\\S+', ' ')\n",
    "data['reviews.title'] = data['reviews.title'].str.replace(r'http\\S+', ' ')\n",
    "data['reviews.username'] = data['reviews.username'].str.replace(r'http\\S+', ' ')"
   ]
  },
  {
   "cell_type": "code",
   "execution_count": null,
   "metadata": {},
   "outputs": [],
   "source": [
    "# Se elimino todo lo que no sean letras, como emojis, signos de puntuacion y numeros\n",
    "data['brand'] = data['brand'].str.replace(r'[^A-Za-z\\s]+', ' ')\n",
    "data['categories'] = data['categories'].str.replace(r'[^A-Za-z]+', ' ')\n",
    "data['manufacturer'] = data['manufacturer'].str.replace(r'[^A-Za-z]+', ' ')\n",
    "data['name'] = data['name'].str.replace(r'[^A-Za-z\\s]+', ' ')\n",
    "data['reviews.text'] = data['reviews.text'].str.replace(r'[^A-Za-z]+', ' ')\n",
    "data['reviews.title'] = data['reviews.title'].str.replace(r'[^A-Za-z]+', ' ')\n",
    "data['reviews.username'] = data['reviews.username'].str.replace(r'[^A-Za-z]+', ' ')"
   ]
  },
  {
   "cell_type": "code",
   "execution_count": null,
   "metadata": {},
   "outputs": [],
   "source": [
    "# Se revisa que no tengan caracteres especiales las columnas deseadas\n",
    "data.head()"
   ]
  },
  {
   "cell_type": "code",
   "execution_count": null,
   "metadata": {},
   "outputs": [],
   "source": [
    "# Tokenize\n",
    "tokenizer = RegexpTokenizer(r'\\w+')\n",
    "\n",
    "data['brand'] = data['brand'].apply(lambda x: tokenizer.tokenize(x))\n",
    "data['categories'] = data['categories'].apply(lambda x: tokenizer.tokenize(x))\n",
    "data['manufacturer'] = data['manufacturer'].apply(lambda x: tokenizer.tokenize(str(x)))\n",
    "data['name'] = data['name'].apply(lambda x: tokenizer.tokenize(x))\n",
    "data['reviews.text'] = data['reviews.text'].apply(lambda x: tokenizer.tokenize(str(x)))\n",
    "data['reviews.title'] = data['reviews.title'].apply(lambda x: tokenizer.tokenize(str(x)))\n",
    "data['reviews.username'] = data['reviews.username'].apply(lambda x: tokenizer.tokenize(str(x)))"
   ]
  },
  {
   "cell_type": "code",
   "execution_count": null,
   "metadata": {},
   "outputs": [],
   "source": [
    "# Stopwords\n",
    "stopwords = stopwords.words('english')"
   ]
  },
  {
   "cell_type": "code",
   "execution_count": null,
   "metadata": {},
   "outputs": [],
   "source": [
    "data['reviews.text'] = data['reviews.text'].apply(lambda y: [w for w in y if w not in stopwords])\n",
    "data['reviews.title'] = data['reviews.title'].apply(lambda y: [w for w in y if w not in stopwords])"
   ]
  },
  {
   "cell_type": "code",
   "execution_count": null,
   "metadata": {},
   "outputs": [],
   "source": [
    "# Se revisa que en reviews text y title no contengan stopwords\n",
    "data.head()"
   ]
  },
  {
   "cell_type": "code",
   "execution_count": null,
   "metadata": {},
   "outputs": [],
   "source": []
  }
 ],
 "metadata": {
  "kernelspec": {
   "display_name": "Python 3",
   "language": "python",
   "name": "python3"
  },
  "language_info": {
   "codemirror_mode": {
    "name": "ipython",
    "version": 3
   },
   "file_extension": ".py",
   "mimetype": "text/x-python",
   "name": "python",
   "nbconvert_exporter": "python",
   "pygments_lexer": "ipython3",
   "version": "3.7.4"
  }
 },
 "nbformat": 4,
 "nbformat_minor": 5
}
